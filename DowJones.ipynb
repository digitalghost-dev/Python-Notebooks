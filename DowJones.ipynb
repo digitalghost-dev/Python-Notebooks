{
 "cells": [
  {
   "cell_type": "markdown",
   "metadata": {},
   "source": [
    "# Dow Jones Notebooks\n",
    "\n",
    "This notebook aims to take a deep dive into the 30 companies listed in the Dow Jones.\n",
    "\n",
    "This notebook is spit into several cells that each provide certain metrics or information about the companies.\n",
    "\n",
    "### Table of Contents\n",
    "\n",
    "* #### [Key Metrics](#key-metrics)\n",
    "\n",
    "### Current Companies listed in the Dow Jones:\n",
    "\n",
    "| 1 - 10              | 11 - 20               | 21 - 30 |\n",
    "| ------------------- | --------------------- | ----------------------- |\n",
    "| 1. American Express | 11. Honeywell         | 21. Nike                |\n",
    "| 2. Amgen            | 12. IBM               | 22. Procter & Gamble    | \n",
    "| 3. Apple            | 13. Intel             | 23. Travelers Companies |\n",
    "| 4. Boeing           | 14. Johnson & Johnson | 24. UnitedHealth Group  |\n",
    "| 5. Caterpiller      | 15. Coca-Cola         | 25. Salesforce          |\n",
    "| 6. Cisco            | 16. JPMorgan Chase    | 26. Verizon             |\n",
    "| 7. Chevron          | 17. McDonald's        | 27. Visa                |\n",
    "| 8. Dow              | 18. 3M                | 28. Walgreens           |\n",
    "| 9. Goldman Sachs    | 19. Merck             | 29. Walmart             |\n",
    "| 10. Home Depot      | 20. Microsoft         | 30. Walt Disney         |"
   ]
  },
  {
   "cell_type": "markdown",
   "metadata": {},
   "source": [
    "# Key Metrics\n",
    "\n",
    "##### This section shows the following key metrics for the companies:\n",
    "* Market Cap\n",
    "* Price to Earnings Ratio\n",
    "* Price Earning to Growth Ratio\n",
    "* Price to Sales Ratio"
   ]
  },
  {
   "cell_type": "code",
   "execution_count": null,
   "metadata": {},
   "outputs": [],
   "source": [
    "# Pretend to be a browser.\n",
    "headers = {\"User-Agent\": \"Mozilla/5.0 (X11; Linux x86_64) AppleWebKit/537.36 (KHTML, like Gecko) Chrome/50.0.2661.75 Safari/537.36\", \"X-Requested-With\": \"XMLHttpRequest\"}\n",
    "\n",
    "# Importing needed modules.\n",
    "import requests\n",
    "import numpy as np\n",
    "import pandas as pd\n",
    "import matplotlib.pyplot as plt\n",
    "from bs4 import BeautifulSoup\n",
    "\n",
    "companies = ['AXP', 'AMGN', 'AAPL', 'BA', 'CAT', 'CSCO', 'CVX', 'DOW', 'GS', 'HD', 'HON', 'IBM', 'INTC', 'JNJ', 'JPM', 'MCD', 'MMM', 'MRK', 'MSFT', 'NKE', 'PG', 'TRV', 'UNH', 'CRM', 'VZ', 'V', 'WBA', 'WMT', 'WMT', 'DIS']\n",
    "\n",
    "# Aplha Query link, used for title.\n",
    "alpha_query_url = ('https://www.alphaquery.com/stock/' + companies[0] + '/profile-key-metrics')\n",
    "\n",
    "# Requirements to find table, then be used to return data.\n",
    "req = requests.get(alpha_query_url, headers = headers)\n",
    "key_metrics_table = pd.read_html(req.text, attrs = {'class':'table table-bordered table-striped table-basic'})\n",
    "\n",
    "# Alpha Query has 3 tables on their key metrics page. Below pulls the data from each table to be used later.\n",
    "data_table_1 = key_metrics_table[0]\n",
    "\n",
    "data_table_2 = key_metrics_table[1]\n",
    "\n",
    "data_table_3 = key_metrics_table[2]\n",
    "\n",
    "# Grabbing the name of given company.\n",
    "title = BeautifulSoup(req.text, 'html.parser')\n",
    "for title in title.find_all('title'):\n",
    "    title_str = str(title)\n",
    "    cutoff = title_str.find('-')\n",
    "    revised_title = title_str[7:cutoff]\n",
    "\n",
    "    # Due to title having extra characters (amp;), a logic check to remove those characters was created.\n",
    "    if 'amp;' in revised_title:\n",
    "        revised_title_sans_amp = revised_title.replace('amp;', '')\n",
    "        print(revised_title_sans_amp)\n",
    "    else:\n",
    "        print(revised_title)\n",
    "\n",
    "# First number is the row, second number is the column.\n",
    "sector = data_table_3[1][1]\n",
    "market_cap = data_table_3.iloc[5][1]\n",
    "pe = data_table_1.iloc[3][1]\n",
    "peg = data_table_1.iloc[4][1]\n",
    "ps = data_table_1.iloc[5][1]\n",
    "\n",
    "print(sector)\n",
    "print(market_cap)\n",
    "print(\"Current P/E Ratio: \" + pe)\n",
    "print(\"Current PEG Ratio: \" + peg)\n",
    "print(\"Current PS Ratio: \" + ps)"
   ]
  }
 ],
 "metadata": {
  "interpreter": {
   "hash": "aee8b7b246df8f9039afb4144a1f6fd8d2ca17a180786b69acc140d282b71a49"
  },
  "kernelspec": {
   "display_name": "Python 3",
   "language": "python",
   "name": "python3"
  },
  "language_info": {
   "codemirror_mode": {
    "name": "ipython",
    "version": 3
   },
   "file_extension": ".py",
   "mimetype": "text/x-python",
   "name": "python",
   "nbconvert_exporter": "python",
   "pygments_lexer": "ipython3",
   "version": "3.10.4"
  }
 },
 "nbformat": 4,
 "nbformat_minor": 2
}
